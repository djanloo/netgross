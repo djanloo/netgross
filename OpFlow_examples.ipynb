{
 "cells": [
  {
   "cell_type": "markdown",
   "id": "d58d918c",
   "metadata": {},
   "source": [
    "In these lines I'm going to show you how to use easily OpFlow from qiskit."
   ]
  },
  {
   "cell_type": "markdown",
   "id": "de547949",
   "metadata": {},
   "source": [
    "# Tensor product:\n",
    "example: $\\sigma_x^{(0)}\\otimes I^{(1)}$"
   ]
  },
  {
   "cell_type": "code",
   "execution_count": 57,
   "id": "0848b505",
   "metadata": {},
   "outputs": [],
   "source": [
    "#import numpy as np\n",
    "#import matplotlib.pyplot as plt\n",
    "#plt.rcParams.update({'font.size': 16})  # enlarge matplotlib fonts\n",
    "\n",
    "# Import Qubit states Zero (|0>) and One (|1>), and Pauli operators (X, Y, Z)\n",
    "import qiskit\n",
    "from qiskit.opflow import commutator, Zero, One, I, X, Y, Z, H\n",
    "from qiskit.circuit import Parameter\n",
    "\n",
    "from qiskit.visualization import array_to_latex as lm"
   ]
  },
  {
   "cell_type": "code",
   "execution_count": 58,
   "id": "961f375e",
   "metadata": {},
   "outputs": [],
   "source": [
    "product=X^I # tensor product between X and Id"
   ]
  },
  {
   "cell_type": "code",
   "execution_count": 59,
   "id": "5d20264c",
   "metadata": {},
   "outputs": [
    {
     "data": {
      "text/latex": [
       "$$\n",
       "\n",
       "\\begin{bmatrix}\n",
       "0 & 0 & 1 & 0  \\\\\n",
       " 0 & 0 & 0 & 1  \\\\\n",
       " 1 & 0 & 0 & 0  \\\\\n",
       " 0 & 1 & 0 & 0  \\\\\n",
       " \\end{bmatrix}\n",
       "$$"
      ],
      "text/plain": [
       "<IPython.core.display.Latex object>"
      ]
     },
     "execution_count": 59,
     "metadata": {},
     "output_type": "execute_result"
    }
   ],
   "source": [
    "prod_matrix=product.to_matrix() # make the numpy matrix of the product\n",
    "lm(prod_matrix) # visualization of the matrix"
   ]
  },
  {
   "cell_type": "code",
   "execution_count": 60,
   "id": "b56b22df",
   "metadata": {},
   "outputs": [
    {
     "data": {
      "text/latex": [
       "$$\n",
       "\n",
       "\\begin{bmatrix}\n",
       "0 & 0 & 1 & 0  \\\\\n",
       " 0 & 0 & 0 & 1  \\\\\n",
       " 1 & 0 & 0 & 0  \\\\\n",
       " 0 & 1 & 0 & 0  \\\\\n",
       " \\end{bmatrix}\n",
       "$$"
      ],
      "text/plain": [
       "<IPython.core.display.Latex object>"
      ]
     },
     "execution_count": 60,
     "metadata": {},
     "output_type": "execute_result"
    }
   ],
   "source": [
    "# Actually you can get the kronecker product in numpy as well\n",
    "# Compute a kronecker product in numpy\n",
    "X_numpy = np.array([[0,1],[1,0]], dtype=complex)\n",
    "I_numpy = np.eye(2, dtype=complex)\n",
    "\n",
    "IX_numpy = np.kron(X_numpy,I_numpy)\n",
    "lm(IX_numpy)"
   ]
  },
  {
   "cell_type": "markdown",
   "id": "3a5178c9",
   "metadata": {},
   "source": [
    "# Sum and (usual) product between matricies\n",
    "Sum example: $\\sigma_x^{(0)}+ I^{(1)}$\n",
    "\n",
    "Product example: $\\sigma_x^{(0)} \\cdot I^{(1)}$"
   ]
  },
  {
   "cell_type": "code",
   "execution_count": 61,
   "id": "24ee7352",
   "metadata": {},
   "outputs": [],
   "source": [
    "Sum = X + I"
   ]
  },
  {
   "cell_type": "code",
   "execution_count": 62,
   "id": "4d652319",
   "metadata": {},
   "outputs": [
    {
     "data": {
      "text/latex": [
       "$$\n",
       "\n",
       "\\begin{bmatrix}\n",
       "1 & 1  \\\\\n",
       " 1 & 1  \\\\\n",
       " \\end{bmatrix}\n",
       "$$"
      ],
      "text/plain": [
       "<IPython.core.display.Latex object>"
      ]
     },
     "execution_count": 62,
     "metadata": {},
     "output_type": "execute_result"
    }
   ],
   "source": [
    "sum_matrix=Sum.to_matrix() # make the numpy matrix of the sum\n",
    "lm(sum_matrix)"
   ]
  },
  {
   "cell_type": "code",
   "execution_count": 63,
   "id": "d5434ff2",
   "metadata": {},
   "outputs": [],
   "source": [
    "Uprod = X @ I #make the usual product"
   ]
  },
  {
   "cell_type": "code",
   "execution_count": 64,
   "id": "13d4c916",
   "metadata": {},
   "outputs": [
    {
     "data": {
      "text/latex": [
       "$$\n",
       "\n",
       "\\begin{bmatrix}\n",
       "0 & 1  \\\\\n",
       " 1 & 0  \\\\\n",
       " \\end{bmatrix}\n",
       "$$"
      ],
      "text/plain": [
       "<IPython.core.display.Latex object>"
      ]
     },
     "execution_count": 64,
     "metadata": {},
     "output_type": "execute_result"
    }
   ],
   "source": [
    "Uprod_matrix=Uprod.to_matrix() # make the numpy matrix of the usual product\n",
    "lm(Uprod_matrix)"
   ]
  },
  {
   "cell_type": "markdown",
   "id": "aa4a341b",
   "metadata": {},
   "source": [
    "# Exponential operator\n",
    "example: $e^{-iH t}$, where H is the hamiltonian of a system, such as $H= \\sigma_x^{(0)}\\otimes \\sigma_x^{(1)}$, and t is the time.\n"
   ]
  },
  {
   "cell_type": "code",
   "execution_count": 65,
   "id": "a8473645",
   "metadata": {},
   "outputs": [],
   "source": [
    "H2=X^X"
   ]
  },
  {
   "cell_type": "code",
   "execution_count": 66,
   "id": "c0fc9afb",
   "metadata": {},
   "outputs": [
    {
     "data": {
      "text/latex": [
       "$$\n",
       "\n",
       "\\begin{bmatrix}\n",
       "\\tfrac{1}{2} & 0 & 0 & \\sqrt{\\tfrac{3}{4}}i  \\\\\n",
       " 0 & \\tfrac{1}{2} & \\sqrt{\\tfrac{3}{4}}i & 0  \\\\\n",
       " 0 & \\sqrt{\\tfrac{3}{4}}i & \\tfrac{1}{2} & 0  \\\\\n",
       " \\sqrt{\\tfrac{3}{4}}i & 0 & 0 & \\tfrac{1}{2}  \\\\\n",
       " \\end{bmatrix}\n",
       "$$"
      ],
      "text/plain": [
       "<IPython.core.display.Latex object>"
      ]
     },
     "execution_count": 66,
     "metadata": {},
     "output_type": "execute_result"
    }
   ],
   "source": [
    "evo_time = Parameter('t')\n",
    "evolution_op = (-evo_time*H2).exp_i()\n",
    "evolution_op=evolution_op.bind_parameters({evo_time: np.pi/3}) #here you can set the time, t=pi/3\n",
    "lm(evolution_op.to_matrix())"
   ]
  },
  {
   "cell_type": "code",
   "execution_count": null,
   "id": "205cd936",
   "metadata": {},
   "outputs": [],
   "source": []
  },
  {
   "cell_type": "code",
   "execution_count": 1,
   "id": "948c46bc",
   "metadata": {},
   "outputs": [
    {
     "ename": "NameError",
     "evalue": "name 'commutator' is not defined",
     "output_type": "error",
     "traceback": [
      "\u001b[0;31m---------------------------------------------------------------------------\u001b[0m",
      "\u001b[0;31mNameError\u001b[0m                                 Traceback (most recent call last)",
      "\u001b[0;32m/tmp/ipykernel_39177/2931443073.py\u001b[0m in \u001b[0;36m<module>\u001b[0;34m\u001b[0m\n\u001b[0;32m----> 1\u001b[0;31m \u001b[0mcommutator\u001b[0m\u001b[0;34m(\u001b[0m\u001b[0mI\u001b[0m\u001b[0;34m,\u001b[0m\u001b[0mX\u001b[0m\u001b[0;34m)\u001b[0m\u001b[0;34m\u001b[0m\u001b[0;34m\u001b[0m\u001b[0m\n\u001b[0m",
      "\u001b[0;31mNameError\u001b[0m: name 'commutator' is not defined"
     ]
    }
   ],
   "source": [
    "commutator(I,X)"
   ]
  },
  {
   "cell_type": "code",
   "execution_count": 67,
   "id": "12ae8b72",
   "metadata": {},
   "outputs": [
    {
     "ename": "NameError",
     "evalue": "name 'comm' is not defined",
     "output_type": "error",
     "traceback": [
      "\u001b[0;31m---------------------------------------------------------------------------\u001b[0m",
      "\u001b[0;31mNameError\u001b[0m                                 Traceback (most recent call last)",
      "\u001b[0;32m/tmp/ipykernel_14540/3447791455.py\u001b[0m in \u001b[0;36m<module>\u001b[0;34m\u001b[0m\n\u001b[1;32m      2\u001b[0m \u001b[0mYYs\u001b[0m \u001b[0;34m=\u001b[0m \u001b[0;34m(\u001b[0m\u001b[0mI\u001b[0m\u001b[0;34m^\u001b[0m\u001b[0mY\u001b[0m\u001b[0;34m^\u001b[0m\u001b[0mY\u001b[0m\u001b[0;34m)\u001b[0m \u001b[0;34m+\u001b[0m \u001b[0;34m(\u001b[0m\u001b[0mY\u001b[0m\u001b[0;34m^\u001b[0m\u001b[0mY\u001b[0m\u001b[0;34m^\u001b[0m\u001b[0mI\u001b[0m\u001b[0;34m)\u001b[0m\u001b[0;34m\u001b[0m\u001b[0;34m\u001b[0m\u001b[0m\n\u001b[1;32m      3\u001b[0m \u001b[0mZZs\u001b[0m \u001b[0;34m=\u001b[0m \u001b[0;34m(\u001b[0m\u001b[0mI\u001b[0m\u001b[0;34m^\u001b[0m\u001b[0mZ\u001b[0m\u001b[0;34m^\u001b[0m\u001b[0mZ\u001b[0m\u001b[0;34m)\u001b[0m \u001b[0;34m+\u001b[0m \u001b[0;34m(\u001b[0m\u001b[0mZ\u001b[0m\u001b[0;34m^\u001b[0m\u001b[0mZ\u001b[0m\u001b[0;34m^\u001b[0m\u001b[0mI\u001b[0m\u001b[0;34m)\u001b[0m\u001b[0;34m\u001b[0m\u001b[0;34m\u001b[0m\u001b[0m\n\u001b[0;32m----> 4\u001b[0;31m \u001b[0mC\u001b[0m\u001b[0;34m=\u001b[0m\u001b[0mcomm\u001b[0m\u001b[0;34m(\u001b[0m\u001b[0mI\u001b[0m\u001b[0;34m^\u001b[0m\u001b[0mX\u001b[0m\u001b[0;34m^\u001b[0m\u001b[0mX\u001b[0m\u001b[0;34m,\u001b[0m\u001b[0mI\u001b[0m\u001b[0;34m^\u001b[0m\u001b[0mZ\u001b[0m\u001b[0;34m^\u001b[0m\u001b[0mZ\u001b[0m\u001b[0;34m)\u001b[0m\u001b[0;34m\u001b[0m\u001b[0;34m\u001b[0m\u001b[0m\n\u001b[0m\u001b[1;32m      5\u001b[0m \u001b[0mqiskit\u001b[0m\u001b[0;34m.\u001b[0m\u001b[0mvisualization\u001b[0m\u001b[0;34m.\u001b[0m\u001b[0marray_to_latex\u001b[0m\u001b[0;34m(\u001b[0m\u001b[0mC\u001b[0m\u001b[0;34m)\u001b[0m\u001b[0;34m\u001b[0m\u001b[0;34m\u001b[0m\u001b[0m\n",
      "\u001b[0;31mNameError\u001b[0m: name 'comm' is not defined"
     ]
    }
   ],
   "source": [
    "XXs = (I^X^X) + (X^X^I)\n",
    "YYs = (I^Y^Y) + (Y^Y^I)\n",
    "ZZs = (I^Z^Z) + (Z^Z^I)\n",
    "C=comm(I^X^X,I^Z^Z)\n",
    "qiskit.visualization.array_to_latex(C)"
   ]
  },
  {
   "cell_type": "code",
   "execution_count": 68,
   "id": "622a866c",
   "metadata": {},
   "outputs": [
    {
     "data": {
      "text/latex": [
       "$$\n",
       "\n",
       "\\begin{bmatrix}\n",
       "0 & 0 & 0 & 0 & 0 & 0 & 1 & 0  \\\\\n",
       " 0 & 0 & 0 & 0 & 0 & 0 & 0 & 1  \\\\\n",
       " 0 & 0 & 0 & 0 & 1 & 0 & 0 & 0  \\\\\n",
       " 0 & 0 & 0 & 0 & 0 & 1 & 0 & 0  \\\\\n",
       " 0 & 0 & 1 & 0 & 0 & 0 & 0 & 0  \\\\\n",
       " 0 & 0 & 0 & 1 & 0 & 0 & 0 & 0  \\\\\n",
       " 1 & 0 & 0 & 0 & 0 & 0 & 0 & 0  \\\\\n",
       " 0 & 1 & 0 & 0 & 0 & 0 & 0 & 0  \\\\\n",
       " \\end{bmatrix}\n",
       "$$"
      ],
      "text/plain": [
       "<IPython.core.display.Latex object>"
      ]
     },
     "execution_count": 68,
     "metadata": {},
     "output_type": "execute_result"
    }
   ],
   "source": [
    "lm((X^X^I).to_matrix())"
   ]
  },
  {
   "cell_type": "code",
   "execution_count": 69,
   "id": "8e9392a9",
   "metadata": {},
   "outputs": [
    {
     "data": {
      "text/latex": [
       "$$\n",
       "\n",
       "\\begin{bmatrix}\n",
       "0 & 0 & 0 & 1  \\\\\n",
       " 0 & 0 & 1 & 0  \\\\\n",
       " 0 & 1 & 0 & 0  \\\\\n",
       " 1 & 0 & 0 & 0  \\\\\n",
       " \\end{bmatrix}\n",
       "$$"
      ],
      "text/plain": [
       "<IPython.core.display.Latex object>"
      ]
     },
     "execution_count": 69,
     "metadata": {},
     "output_type": "execute_result"
    }
   ],
   "source": [
    "qiskit.visualization.array_to_latex((X^X).to_matrix())"
   ]
  },
  {
   "cell_type": "code",
   "execution_count": 70,
   "id": "5059f818",
   "metadata": {},
   "outputs": [
    {
     "data": {
      "text/latex": [
       "$$\n",
       "\n",
       "\\begin{bmatrix}\n",
       "0 & 0 & 0 & 1(1 - i)  \\\\\n",
       " 0 & 0 & 1(1 - i) & 0  \\\\\n",
       " 0 & 1(1 + i) & 0 & 0  \\\\\n",
       " 1(1 + i) & 0 & 0 & 0  \\\\\n",
       " \\end{bmatrix}\n",
       "$$"
      ],
      "text/plain": [
       "<IPython.core.display.Latex object>"
      ]
     },
     "execution_count": 70,
     "metadata": {},
     "output_type": "execute_result"
    }
   ],
   "source": [
    "lm((X + Y^X).to_matrix())"
   ]
  },
  {
   "cell_type": "code",
   "execution_count": 71,
   "id": "84b1d199",
   "metadata": {},
   "outputs": [
    {
     "data": {
      "text/latex": [
       "$$\n",
       "\n",
       "\\begin{bmatrix}\n",
       "0 & 0 & 0 & 1 & 0 & 0 & 0 & 0  \\\\\n",
       " 0 & 0 & 1 & 0 & 0 & 0 & 0 & 0  \\\\\n",
       " 0 & 1 & 0 & 0 & 0 & 0 & 0 & 0  \\\\\n",
       " 1 & 0 & 0 & 0 & 0 & 0 & 0 & 0  \\\\\n",
       " 0 & 0 & 0 & 0 & 0 & 0 & 0 & 1  \\\\\n",
       " 0 & 0 & 0 & 0 & 0 & 0 & 1 & 0  \\\\\n",
       " 0 & 0 & 0 & 0 & 0 & 1 & 0 & 0  \\\\\n",
       " 0 & 0 & 0 & 0 & 1 & 0 & 0 & 0  \\\\\n",
       " \\end{bmatrix}\n",
       "$$"
      ],
      "text/plain": [
       "<IPython.core.display.Latex object>"
      ]
     },
     "execution_count": 71,
     "metadata": {},
     "output_type": "execute_result"
    }
   ],
   "source": [
    "H2=I^X^X\n",
    "lm(H2.to_matrix())"
   ]
  },
  {
   "cell_type": "code",
   "execution_count": null,
   "id": "e110e243",
   "metadata": {},
   "outputs": [],
   "source": []
  },
  {
   "cell_type": "code",
   "execution_count": null,
   "id": "34222fa2",
   "metadata": {},
   "outputs": [],
   "source": []
  }
 ],
 "metadata": {
  "kernelspec": {
   "display_name": "Python 3 (ipykernel)",
   "language": "python",
   "name": "python3"
  },
  "language_info": {
   "codemirror_mode": {
    "name": "ipython",
    "version": 3
   },
   "file_extension": ".py",
   "mimetype": "text/x-python",
   "name": "python",
   "nbconvert_exporter": "python",
   "pygments_lexer": "ipython3",
   "version": "3.8.12"
  }
 },
 "nbformat": 4,
 "nbformat_minor": 5
}
